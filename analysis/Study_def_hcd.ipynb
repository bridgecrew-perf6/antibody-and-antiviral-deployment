{
 "cells": [
  {
   "cell_type": "markdown",
   "metadata": {},
   "source": [
    "The below is adapted from this notebook\n",
    "\n",
    "#https://github.com/opensafely/highcostdrugs-research/blob/master/analysis/study_definition_hcd.py"
   ]
  },
  {
   "cell_type": "code",
   "execution_count": 1,
   "metadata": {},
   "outputs": [
    {
     "ename": "ModuleNotFoundError",
     "evalue": "No module named 'cohortextractor'",
     "output_type": "error",
     "traceback": [
      "\u001b[1;31m---------------------------------------------------------------------------\u001b[0m",
      "\u001b[1;31mModuleNotFoundError\u001b[0m                       Traceback (most recent call last)",
      "\u001b[1;32m~\\AppData\\Local\\Temp/ipykernel_32920/1170622347.py\u001b[0m in \u001b[0;36m<module>\u001b[1;34m\u001b[0m\n\u001b[0;32m      1\u001b[0m \u001b[1;31m# Import functions\u001b[0m\u001b[1;33m\u001b[0m\u001b[1;33m\u001b[0m\u001b[0m\n\u001b[0;32m      2\u001b[0m \u001b[1;33m\u001b[0m\u001b[0m\n\u001b[1;32m----> 3\u001b[1;33m from cohortextractor import (\n\u001b[0m\u001b[0;32m      4\u001b[0m     \u001b[0mStudyDefinition\u001b[0m\u001b[1;33m,\u001b[0m\u001b[1;33m\u001b[0m\u001b[1;33m\u001b[0m\u001b[0m\n\u001b[0;32m      5\u001b[0m     \u001b[0mpatients\u001b[0m\u001b[1;33m,\u001b[0m\u001b[1;33m\u001b[0m\u001b[1;33m\u001b[0m\u001b[0m\n",
      "\u001b[1;31mModuleNotFoundError\u001b[0m: No module named 'cohortextractor'"
     ]
    }
   ],
   "source": [
    "\n",
    "# Import functions\n",
    "\n",
    "\n",
    "\n",
    "from cohortextractor import (\n",
    "    StudyDefinition, \n",
    "    patients, \n",
    "    codelist_from_csv\n",
    ")\n",
    "\n",
    "# Import codelists - 11/01/11 - currently no codelists required to import\n",
    "\n",
    "# from codelists import *\n",
    "\n",
    "# Specifiy study defeinition\n",
    "\n",
    "study = StudyDefinition(\n",
    "    # Configure the expectations framework\n",
    "    default_expectations={\n",
    "        \"date\": {\"earliest\": \"1900-01-01\", \"latest\": \"today\"},\n",
    "        \"rate\": \"exponential_increase\",\n",
    "    },\n",
    "    # This line defines the study population\n",
    "    population=patients.registered_with_one_practice_between(\n",
    "        \"2020-01-01\", \"2020-03-31\"\n",
    "    ),\n",
    "\n",
    "    #https://github.com/opensafely-core/cohort-extractor/blob/819b1ca256d4c0f3ff2fca68389cc846417a021c/cohortextractor/patients.py#L1731-L1765\n",
    "    in_hcd=patients.with_high_cost_drugs(\n",
    "                between = [\"2018-04-01\", \"2020-03-31\"],\n",
    "                find_first_match_in_period=True,\n",
    "                returning=\"binary_flag\",\n",
    "                return_expectations={\"incidence\": 0.15,},\n",
    "            )\n",
    ")\n"
   ]
  }
 ],
 "metadata": {
  "interpreter": {
   "hash": "169152528c9baa519b8e684109cbb23d8123ed4b4d8adf1370c3b40c61c2228c"
  },
  "kernelspec": {
   "display_name": "Python 3.9.7 64-bit ('base': conda)",
   "language": "python",
   "name": "python3"
  },
  "language_info": {
   "codemirror_mode": {
    "name": "ipython",
    "version": 3
   },
   "file_extension": ".py",
   "mimetype": "text/x-python",
   "name": "python",
   "nbconvert_exporter": "python",
   "pygments_lexer": "ipython3",
   "version": "3.9.7"
  },
  "orig_nbformat": 4
 },
 "nbformat": 4,
 "nbformat_minor": 2
}
